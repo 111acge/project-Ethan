{
  "nbformat": 4,
  "nbformat_minor": 0,
  "metadata": {
    "colab": {
      "name": "GoogleColab.ipynb",
      "provenance": [],
      "collapsed_sections": []
    },
    "kernelspec": {
      "name": "python3",
      "display_name": "Python 3"
    },
    "language_info": {
      "name": "python"
    }
  },
  "cells": [
    {
      "cell_type": "markdown",
      "metadata": {
        "id": "KvzS9oPYBJQZ"
      },
      "source": [
        "[![Open In Colab](https://colab.research.google.com/assets/colab-badge.svg)](https://colab.research.google.com/github/UNSW-ZZSC9020/project/blob/main/GoogleColab.ipynb)"
      ]
    },
    {
      "cell_type": "code",
      "metadata": {
        "colab": {
          "base_uri": "https://localhost:8080/"
        },
        "id": "brynNOEi6FzS",
        "outputId": "41c6d4a4-bc13-4b14-c75c-951705efe1fb"
      },
      "source": [
        "# Clone the ZZSC9020 project repository from GitHub\n",
        "!git clone https://github.com/UNSW-ZZSC9020/project.git"
      ],
      "execution_count": 1,
      "outputs": [
        {
          "output_type": "stream",
          "text": [
            "Cloning into 'project'...\n",
            "remote: Enumerating objects: 25, done.\u001b[K\n",
            "remote: Total 25 (delta 0), reused 0 (delta 0), pack-reused 25\u001b[K\n",
            "Unpacking objects: 100% (25/25), done.\n",
            "Checking out files: 100% (11/11), done.\n"
          ],
          "name": "stdout"
        }
      ]
    },
    {
      "cell_type": "code",
      "metadata": {
        "id": "44VdVtiX7Ukn"
      },
      "source": [
        "# Create a data folder\n",
        "!mkdir -p data\n",
        "# Joint forecastdemand_nsw files into a single file. \n",
        "!cat project/data/forecastdemand_nsw.csv.zip.part* > data/forecastdemand_nsw.csv.zip"
      ],
      "execution_count": 16,
      "outputs": []
    },
    {
      "cell_type": "code",
      "metadata": {
        "colab": {
          "base_uri": "https://localhost:8080/"
        },
        "id": "GdnC6dlz8agZ",
        "outputId": "fee967de-019b-44d9-83c0-526577b1baf0"
      },
      "source": [
        "# Unzip the data files into the data folder\n",
        "!unzip data/forecastdemand_nsw.csv.zip -d data\n",
        "!unzip project/data/temperature_nsw.csv.zip -d data\n",
        "!unzip project/data/totaldemand_nsw.csv.zip -d data\n",
        "\n",
        "# Remove forecastdemand_nsw.csv.zip\n",
        "!rm data/forecastdemand_nsw.csv.zip"
      ],
      "execution_count": 18,
      "outputs": [
        {
          "output_type": "stream",
          "text": [
            "Archive:  data/forecastdemand_nsw.csv.zip\n",
            "replace data/forecastdemand_nsw.csv? [y]es, [n]o, [A]ll, [N]one, [r]ename: y\n",
            "  inflating: data/forecastdemand_nsw.csv  \n",
            "Archive:  project/data/temperature_nsw.csv.zip\n",
            "replace data/temperature_nsw.csv? [y]es, [n]o, [A]ll, [N]one, [r]ename: y\n",
            "  inflating: data/temperature_nsw.csv  \n",
            "Archive:  project/data/totaldemand_nsw.csv.zip\n",
            "replace data/totaldemand_nsw.csv? [y]es, [n]o, [A]ll, [N]one, [r]ename: a\n",
            "error:  invalid response [a]\n",
            "replace data/totaldemand_nsw.csv? [y]es, [n]o, [A]ll, [N]one, [r]ename: A\n",
            "  inflating: data/totaldemand_nsw.csv  \n"
          ],
          "name": "stdout"
        }
      ]
    }
  ]
}